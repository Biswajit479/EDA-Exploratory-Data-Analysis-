{
 "cells": [
  {
   "cell_type": "markdown",
   "id": "bd6003c0-ea11-4362-8afa-6f9eea9f4874",
   "metadata": {},
   "source": [
    "# Bike details Dataset"
   ]
  },
  {
   "cell_type": "code",
   "execution_count": 2,
   "id": "874ec3d0-1c9d-4df1-b5b8-8a4cc77e7941",
   "metadata": {},
   "outputs": [],
   "source": [
    "# import all the required libraries\n",
    "import numpy as np\n",
    "import pandas as pd\n",
    "import matplotlib.pyplot as plt\n",
    "import seaborn as sns\n",
    "\n",
    "import warnings\n",
    "warnings.filterwarnings('ignore')"
   ]
  },
  {
   "cell_type": "code",
   "execution_count": 3,
   "id": "5e925f5e-0c64-43ef-8c92-188f03d6e6f5",
   "metadata": {},
   "outputs": [
    {
     "data": {
      "text/html": [
       "<div>\n",
       "<style scoped>\n",
       "    .dataframe tbody tr th:only-of-type {\n",
       "        vertical-align: middle;\n",
       "    }\n",
       "\n",
       "    .dataframe tbody tr th {\n",
       "        vertical-align: top;\n",
       "    }\n",
       "\n",
       "    .dataframe thead th {\n",
       "        text-align: right;\n",
       "    }\n",
       "</style>\n",
       "<table border=\"1\" class=\"dataframe\">\n",
       "  <thead>\n",
       "    <tr style=\"text-align: right;\">\n",
       "      <th></th>\n",
       "      <th>name</th>\n",
       "      <th>selling_price</th>\n",
       "      <th>year</th>\n",
       "      <th>seller_type</th>\n",
       "      <th>owner</th>\n",
       "      <th>km_driven</th>\n",
       "      <th>ex_showroom_price</th>\n",
       "    </tr>\n",
       "  </thead>\n",
       "  <tbody>\n",
       "    <tr>\n",
       "      <th>0</th>\n",
       "      <td>Royal Enfield Classic 350</td>\n",
       "      <td>175000</td>\n",
       "      <td>2019</td>\n",
       "      <td>Individual</td>\n",
       "      <td>1st owner</td>\n",
       "      <td>350</td>\n",
       "      <td>NaN</td>\n",
       "    </tr>\n",
       "    <tr>\n",
       "      <th>1</th>\n",
       "      <td>Honda Dio</td>\n",
       "      <td>45000</td>\n",
       "      <td>2017</td>\n",
       "      <td>Individual</td>\n",
       "      <td>1st owner</td>\n",
       "      <td>5650</td>\n",
       "      <td>NaN</td>\n",
       "    </tr>\n",
       "    <tr>\n",
       "      <th>2</th>\n",
       "      <td>Royal Enfield Classic Gunmetal Grey</td>\n",
       "      <td>150000</td>\n",
       "      <td>2018</td>\n",
       "      <td>Individual</td>\n",
       "      <td>1st owner</td>\n",
       "      <td>12000</td>\n",
       "      <td>148114.0</td>\n",
       "    </tr>\n",
       "    <tr>\n",
       "      <th>3</th>\n",
       "      <td>Yamaha Fazer FI V 2.0 [2016-2018]</td>\n",
       "      <td>65000</td>\n",
       "      <td>2015</td>\n",
       "      <td>Individual</td>\n",
       "      <td>1st owner</td>\n",
       "      <td>23000</td>\n",
       "      <td>89643.0</td>\n",
       "    </tr>\n",
       "    <tr>\n",
       "      <th>4</th>\n",
       "      <td>Yamaha SZ [2013-2014]</td>\n",
       "      <td>20000</td>\n",
       "      <td>2011</td>\n",
       "      <td>Individual</td>\n",
       "      <td>2nd owner</td>\n",
       "      <td>21000</td>\n",
       "      <td>NaN</td>\n",
       "    </tr>\n",
       "    <tr>\n",
       "      <th>...</th>\n",
       "      <td>...</td>\n",
       "      <td>...</td>\n",
       "      <td>...</td>\n",
       "      <td>...</td>\n",
       "      <td>...</td>\n",
       "      <td>...</td>\n",
       "      <td>...</td>\n",
       "    </tr>\n",
       "    <tr>\n",
       "      <th>1056</th>\n",
       "      <td>Activa 3g</td>\n",
       "      <td>17000</td>\n",
       "      <td>2010</td>\n",
       "      <td>Individual</td>\n",
       "      <td>1st owner</td>\n",
       "      <td>500000</td>\n",
       "      <td>52000.0</td>\n",
       "    </tr>\n",
       "    <tr>\n",
       "      <th>1057</th>\n",
       "      <td>Honda CB twister</td>\n",
       "      <td>16000</td>\n",
       "      <td>2012</td>\n",
       "      <td>Individual</td>\n",
       "      <td>1st owner</td>\n",
       "      <td>33000</td>\n",
       "      <td>51000.0</td>\n",
       "    </tr>\n",
       "    <tr>\n",
       "      <th>1058</th>\n",
       "      <td>Bajaj Discover 125</td>\n",
       "      <td>15000</td>\n",
       "      <td>2013</td>\n",
       "      <td>Individual</td>\n",
       "      <td>2nd owner</td>\n",
       "      <td>35000</td>\n",
       "      <td>57000.0</td>\n",
       "    </tr>\n",
       "    <tr>\n",
       "      <th>1059</th>\n",
       "      <td>Honda CB Shine</td>\n",
       "      <td>12000</td>\n",
       "      <td>2009</td>\n",
       "      <td>Individual</td>\n",
       "      <td>1st owner</td>\n",
       "      <td>53000</td>\n",
       "      <td>58000.0</td>\n",
       "    </tr>\n",
       "    <tr>\n",
       "      <th>1060</th>\n",
       "      <td>Bajaj Pulsar 150</td>\n",
       "      <td>10000</td>\n",
       "      <td>2008</td>\n",
       "      <td>Individual</td>\n",
       "      <td>1st owner</td>\n",
       "      <td>92233</td>\n",
       "      <td>75000.0</td>\n",
       "    </tr>\n",
       "  </tbody>\n",
       "</table>\n",
       "<p>1061 rows × 7 columns</p>\n",
       "</div>"
      ],
      "text/plain": [
       "                                     name  selling_price  year seller_type  \\\n",
       "0               Royal Enfield Classic 350         175000  2019  Individual   \n",
       "1                               Honda Dio          45000  2017  Individual   \n",
       "2     Royal Enfield Classic Gunmetal Grey         150000  2018  Individual   \n",
       "3       Yamaha Fazer FI V 2.0 [2016-2018]          65000  2015  Individual   \n",
       "4                   Yamaha SZ [2013-2014]          20000  2011  Individual   \n",
       "...                                   ...            ...   ...         ...   \n",
       "1056                            Activa 3g          17000  2010  Individual   \n",
       "1057                     Honda CB twister          16000  2012  Individual   \n",
       "1058                   Bajaj Discover 125          15000  2013  Individual   \n",
       "1059                       Honda CB Shine          12000  2009  Individual   \n",
       "1060                     Bajaj Pulsar 150          10000  2008  Individual   \n",
       "\n",
       "          owner  km_driven  ex_showroom_price  \n",
       "0     1st owner        350                NaN  \n",
       "1     1st owner       5650                NaN  \n",
       "2     1st owner      12000           148114.0  \n",
       "3     1st owner      23000            89643.0  \n",
       "4     2nd owner      21000                NaN  \n",
       "...         ...        ...                ...  \n",
       "1056  1st owner     500000            52000.0  \n",
       "1057  1st owner      33000            51000.0  \n",
       "1058  2nd owner      35000            57000.0  \n",
       "1059  1st owner      53000            58000.0  \n",
       "1060  1st owner      92233            75000.0  \n",
       "\n",
       "[1061 rows x 7 columns]"
      ]
     },
     "execution_count": 3,
     "metadata": {},
     "output_type": "execute_result"
    }
   ],
   "source": [
    "# load the dataset\n",
    "df = pd.read_csv('BIKE DETAILS.csv')\n",
    "df"
   ]
  },
  {
   "cell_type": "code",
   "execution_count": 4,
   "id": "a5c6cba2-4806-4d40-8581-11958273ce02",
   "metadata": {},
   "outputs": [
    {
     "data": {
      "text/html": [
       "<div>\n",
       "<style scoped>\n",
       "    .dataframe tbody tr th:only-of-type {\n",
       "        vertical-align: middle;\n",
       "    }\n",
       "\n",
       "    .dataframe tbody tr th {\n",
       "        vertical-align: top;\n",
       "    }\n",
       "\n",
       "    .dataframe thead th {\n",
       "        text-align: right;\n",
       "    }\n",
       "</style>\n",
       "<table border=\"1\" class=\"dataframe\">\n",
       "  <thead>\n",
       "    <tr style=\"text-align: right;\">\n",
       "      <th></th>\n",
       "      <th>name</th>\n",
       "      <th>selling_price</th>\n",
       "      <th>year</th>\n",
       "      <th>seller_type</th>\n",
       "      <th>owner</th>\n",
       "      <th>km_driven</th>\n",
       "      <th>ex_showroom_price</th>\n",
       "    </tr>\n",
       "  </thead>\n",
       "  <tbody>\n",
       "    <tr>\n",
       "      <th>0</th>\n",
       "      <td>Royal Enfield Classic 350</td>\n",
       "      <td>175000</td>\n",
       "      <td>2019</td>\n",
       "      <td>Individual</td>\n",
       "      <td>1st owner</td>\n",
       "      <td>350</td>\n",
       "      <td>NaN</td>\n",
       "    </tr>\n",
       "    <tr>\n",
       "      <th>1</th>\n",
       "      <td>Honda Dio</td>\n",
       "      <td>45000</td>\n",
       "      <td>2017</td>\n",
       "      <td>Individual</td>\n",
       "      <td>1st owner</td>\n",
       "      <td>5650</td>\n",
       "      <td>NaN</td>\n",
       "    </tr>\n",
       "    <tr>\n",
       "      <th>2</th>\n",
       "      <td>Royal Enfield Classic Gunmetal Grey</td>\n",
       "      <td>150000</td>\n",
       "      <td>2018</td>\n",
       "      <td>Individual</td>\n",
       "      <td>1st owner</td>\n",
       "      <td>12000</td>\n",
       "      <td>148114.0</td>\n",
       "    </tr>\n",
       "    <tr>\n",
       "      <th>3</th>\n",
       "      <td>Yamaha Fazer FI V 2.0 [2016-2018]</td>\n",
       "      <td>65000</td>\n",
       "      <td>2015</td>\n",
       "      <td>Individual</td>\n",
       "      <td>1st owner</td>\n",
       "      <td>23000</td>\n",
       "      <td>89643.0</td>\n",
       "    </tr>\n",
       "    <tr>\n",
       "      <th>4</th>\n",
       "      <td>Yamaha SZ [2013-2014]</td>\n",
       "      <td>20000</td>\n",
       "      <td>2011</td>\n",
       "      <td>Individual</td>\n",
       "      <td>2nd owner</td>\n",
       "      <td>21000</td>\n",
       "      <td>NaN</td>\n",
       "    </tr>\n",
       "  </tbody>\n",
       "</table>\n",
       "</div>"
      ],
      "text/plain": [
       "                                  name  selling_price  year seller_type  \\\n",
       "0            Royal Enfield Classic 350         175000  2019  Individual   \n",
       "1                            Honda Dio          45000  2017  Individual   \n",
       "2  Royal Enfield Classic Gunmetal Grey         150000  2018  Individual   \n",
       "3    Yamaha Fazer FI V 2.0 [2016-2018]          65000  2015  Individual   \n",
       "4                Yamaha SZ [2013-2014]          20000  2011  Individual   \n",
       "\n",
       "       owner  km_driven  ex_showroom_price  \n",
       "0  1st owner        350                NaN  \n",
       "1  1st owner       5650                NaN  \n",
       "2  1st owner      12000           148114.0  \n",
       "3  1st owner      23000            89643.0  \n",
       "4  2nd owner      21000                NaN  "
      ]
     },
     "execution_count": 4,
     "metadata": {},
     "output_type": "execute_result"
    }
   ],
   "source": [
    "# top 5 rows of the dataset\n",
    "df.head()"
   ]
  },
  {
   "cell_type": "code",
   "execution_count": 5,
   "id": "2fe79952-60d3-4763-b201-77bc2ba4dc41",
   "metadata": {},
   "outputs": [
    {
     "data": {
      "text/html": [
       "<div>\n",
       "<style scoped>\n",
       "    .dataframe tbody tr th:only-of-type {\n",
       "        vertical-align: middle;\n",
       "    }\n",
       "\n",
       "    .dataframe tbody tr th {\n",
       "        vertical-align: top;\n",
       "    }\n",
       "\n",
       "    .dataframe thead th {\n",
       "        text-align: right;\n",
       "    }\n",
       "</style>\n",
       "<table border=\"1\" class=\"dataframe\">\n",
       "  <thead>\n",
       "    <tr style=\"text-align: right;\">\n",
       "      <th></th>\n",
       "      <th>name</th>\n",
       "      <th>selling_price</th>\n",
       "      <th>year</th>\n",
       "      <th>seller_type</th>\n",
       "      <th>owner</th>\n",
       "      <th>km_driven</th>\n",
       "      <th>ex_showroom_price</th>\n",
       "    </tr>\n",
       "  </thead>\n",
       "  <tbody>\n",
       "    <tr>\n",
       "      <th>1056</th>\n",
       "      <td>Activa 3g</td>\n",
       "      <td>17000</td>\n",
       "      <td>2010</td>\n",
       "      <td>Individual</td>\n",
       "      <td>1st owner</td>\n",
       "      <td>500000</td>\n",
       "      <td>52000.0</td>\n",
       "    </tr>\n",
       "    <tr>\n",
       "      <th>1057</th>\n",
       "      <td>Honda CB twister</td>\n",
       "      <td>16000</td>\n",
       "      <td>2012</td>\n",
       "      <td>Individual</td>\n",
       "      <td>1st owner</td>\n",
       "      <td>33000</td>\n",
       "      <td>51000.0</td>\n",
       "    </tr>\n",
       "    <tr>\n",
       "      <th>1058</th>\n",
       "      <td>Bajaj Discover 125</td>\n",
       "      <td>15000</td>\n",
       "      <td>2013</td>\n",
       "      <td>Individual</td>\n",
       "      <td>2nd owner</td>\n",
       "      <td>35000</td>\n",
       "      <td>57000.0</td>\n",
       "    </tr>\n",
       "    <tr>\n",
       "      <th>1059</th>\n",
       "      <td>Honda CB Shine</td>\n",
       "      <td>12000</td>\n",
       "      <td>2009</td>\n",
       "      <td>Individual</td>\n",
       "      <td>1st owner</td>\n",
       "      <td>53000</td>\n",
       "      <td>58000.0</td>\n",
       "    </tr>\n",
       "    <tr>\n",
       "      <th>1060</th>\n",
       "      <td>Bajaj Pulsar 150</td>\n",
       "      <td>10000</td>\n",
       "      <td>2008</td>\n",
       "      <td>Individual</td>\n",
       "      <td>1st owner</td>\n",
       "      <td>92233</td>\n",
       "      <td>75000.0</td>\n",
       "    </tr>\n",
       "  </tbody>\n",
       "</table>\n",
       "</div>"
      ],
      "text/plain": [
       "                    name  selling_price  year seller_type      owner  \\\n",
       "1056           Activa 3g          17000  2010  Individual  1st owner   \n",
       "1057    Honda CB twister          16000  2012  Individual  1st owner   \n",
       "1058  Bajaj Discover 125          15000  2013  Individual  2nd owner   \n",
       "1059      Honda CB Shine          12000  2009  Individual  1st owner   \n",
       "1060    Bajaj Pulsar 150          10000  2008  Individual  1st owner   \n",
       "\n",
       "      km_driven  ex_showroom_price  \n",
       "1056     500000            52000.0  \n",
       "1057      33000            51000.0  \n",
       "1058      35000            57000.0  \n",
       "1059      53000            58000.0  \n",
       "1060      92233            75000.0  "
      ]
     },
     "execution_count": 5,
     "metadata": {},
     "output_type": "execute_result"
    }
   ],
   "source": [
    "# last 5 rows of the dataset\n",
    "df.tail()"
   ]
  },
  {
   "cell_type": "code",
   "execution_count": 6,
   "id": "7e438316-bbd8-4bf4-8b74-d7c6cd33f0d1",
   "metadata": {},
   "outputs": [
    {
     "data": {
      "text/html": [
       "<div>\n",
       "<style scoped>\n",
       "    .dataframe tbody tr th:only-of-type {\n",
       "        vertical-align: middle;\n",
       "    }\n",
       "\n",
       "    .dataframe tbody tr th {\n",
       "        vertical-align: top;\n",
       "    }\n",
       "\n",
       "    .dataframe thead th {\n",
       "        text-align: right;\n",
       "    }\n",
       "</style>\n",
       "<table border=\"1\" class=\"dataframe\">\n",
       "  <thead>\n",
       "    <tr style=\"text-align: right;\">\n",
       "      <th></th>\n",
       "      <th>name</th>\n",
       "      <th>selling_price</th>\n",
       "      <th>year</th>\n",
       "      <th>seller_type</th>\n",
       "      <th>owner</th>\n",
       "      <th>km_driven</th>\n",
       "      <th>ex_showroom_price</th>\n",
       "    </tr>\n",
       "  </thead>\n",
       "  <tbody>\n",
       "    <tr>\n",
       "      <th>301</th>\n",
       "      <td>Bajaj Avenger [2015]</td>\n",
       "      <td>38000</td>\n",
       "      <td>2014</td>\n",
       "      <td>Individual</td>\n",
       "      <td>2nd owner</td>\n",
       "      <td>28243</td>\n",
       "      <td>75502.0</td>\n",
       "    </tr>\n",
       "    <tr>\n",
       "      <th>549</th>\n",
       "      <td>TVS Streak</td>\n",
       "      <td>20000</td>\n",
       "      <td>2009</td>\n",
       "      <td>Individual</td>\n",
       "      <td>2nd owner</td>\n",
       "      <td>36000</td>\n",
       "      <td>NaN</td>\n",
       "    </tr>\n",
       "    <tr>\n",
       "      <th>946</th>\n",
       "      <td>Honda CB Hornet 160R</td>\n",
       "      <td>70000</td>\n",
       "      <td>2017</td>\n",
       "      <td>Individual</td>\n",
       "      <td>1st owner</td>\n",
       "      <td>28000</td>\n",
       "      <td>83340.0</td>\n",
       "    </tr>\n",
       "    <tr>\n",
       "      <th>533</th>\n",
       "      <td>Hero Glamour 125</td>\n",
       "      <td>40000</td>\n",
       "      <td>2016</td>\n",
       "      <td>Individual</td>\n",
       "      <td>1st owner</td>\n",
       "      <td>15000</td>\n",
       "      <td>61600.0</td>\n",
       "    </tr>\n",
       "    <tr>\n",
       "      <th>98</th>\n",
       "      <td>Hero Splendor Plus</td>\n",
       "      <td>30000</td>\n",
       "      <td>2015</td>\n",
       "      <td>Individual</td>\n",
       "      <td>1st owner</td>\n",
       "      <td>30000</td>\n",
       "      <td>NaN</td>\n",
       "    </tr>\n",
       "  </tbody>\n",
       "</table>\n",
       "</div>"
      ],
      "text/plain": [
       "                     name  selling_price  year seller_type      owner  \\\n",
       "301  Bajaj Avenger [2015]          38000  2014  Individual  2nd owner   \n",
       "549            TVS Streak          20000  2009  Individual  2nd owner   \n",
       "946  Honda CB Hornet 160R          70000  2017  Individual  1st owner   \n",
       "533      Hero Glamour 125          40000  2016  Individual  1st owner   \n",
       "98     Hero Splendor Plus          30000  2015  Individual  1st owner   \n",
       "\n",
       "     km_driven  ex_showroom_price  \n",
       "301      28243            75502.0  \n",
       "549      36000                NaN  \n",
       "946      28000            83340.0  \n",
       "533      15000            61600.0  \n",
       "98       30000                NaN  "
      ]
     },
     "execution_count": 6,
     "metadata": {},
     "output_type": "execute_result"
    }
   ],
   "source": [
    "# randomly select 5 rows of the dataset\n",
    "df.sample(5)"
   ]
  },
  {
   "cell_type": "raw",
   "id": "29a0af1e-2bec-46b0-bc5c-1c2679b2c677",
   "metadata": {},
   "source": [
    " =name: Brand and model name of the bike (Categorical, e.g., \"Royal Enfield Classic 350\", \"Honda Dio\")Z\n",
    " selling_price: Listed selling price in INR (Numeric, e.g., 175000, 45000)Z\n",
    " year: Manufacturing year of the bike (Numeric, e.g., 2019, 2015)Z\n",
    " seller_type: Seller category, either \"Individual\" or \"Dealer\" (Categorical)Z\n",
    " owner: Ownership history, e.g., \"1st owner\", \"2nd owner\" (Categorical)Z\n",
    " km_driven: Total kilometers driven (Numeric, in km, e.g., 12000, 23000)Z\n",
    " ex_showroom_price: Original showroom price in INR (Numeric, e.g., 148114.0, 89643.0, etc,.)."
   ]
  },
  {
   "cell_type": "code",
   "execution_count": 7,
   "id": "2e76e265-907b-4ce5-b205-a84c7df5a118",
   "metadata": {},
   "outputs": [
    {
     "data": {
      "text/plain": [
       "(1061, 7)"
      ]
     },
     "execution_count": 7,
     "metadata": {},
     "output_type": "execute_result"
    }
   ],
   "source": [
    "df.shape"
   ]
  },
  {
   "cell_type": "code",
   "execution_count": 8,
   "id": "73395a11-7706-4bc8-8bef-2935f73e5bb7",
   "metadata": {},
   "outputs": [],
   "source": [
    "# insights>> this dataset contains 1061 number of rows and 7 columns"
   ]
  },
  {
   "cell_type": "code",
   "execution_count": 9,
   "id": "ff456b05-ef7b-43ff-ae25-acc0109d7996",
   "metadata": {},
   "outputs": [
    {
     "name": "stdout",
     "output_type": "stream",
     "text": [
      "<class 'pandas.core.frame.DataFrame'>\n",
      "RangeIndex: 1061 entries, 0 to 1060\n",
      "Data columns (total 7 columns):\n",
      " #   Column             Non-Null Count  Dtype  \n",
      "---  ------             --------------  -----  \n",
      " 0   name               1061 non-null   object \n",
      " 1   selling_price      1061 non-null   int64  \n",
      " 2   year               1061 non-null   int64  \n",
      " 3   seller_type        1061 non-null   object \n",
      " 4   owner              1061 non-null   object \n",
      " 5   km_driven          1061 non-null   int64  \n",
      " 6   ex_showroom_price  626 non-null    float64\n",
      "dtypes: float64(1), int64(3), object(3)\n",
      "memory usage: 58.2+ KB\n"
     ]
    }
   ],
   "source": [
    "# Cheeck the information of all the column\n",
    "df.info()"
   ]
  },
  {
   "cell_type": "code",
   "execution_count": 10,
   "id": "6062e971-cdcc-4485-8802-1b30e610e381",
   "metadata": {},
   "outputs": [
    {
     "data": {
      "text/plain": [
       "name                  object\n",
       "selling_price          int64\n",
       "year                   int64\n",
       "seller_type           object\n",
       "owner                 object\n",
       "km_driven              int64\n",
       "ex_showroom_price    float64\n",
       "dtype: object"
      ]
     },
     "execution_count": 10,
     "metadata": {},
     "output_type": "execute_result"
    }
   ],
   "source": [
    "# check the datatype of each column\n",
    "df.dtypes"
   ]
  },
  {
   "cell_type": "markdown",
   "id": "3b957267-d737-4b91-b5c5-fbc7232127f5",
   "metadata": {},
   "source": [
    "### 1. What is the range of selling prices in the dataset ?"
   ]
  },
  {
   "cell_type": "code",
   "execution_count": 12,
   "id": "52971305-3fad-4a16-a2f7-33ef589f5cd5",
   "metadata": {},
   "outputs": [
    {
     "name": "stdout",
     "output_type": "stream",
     "text": [
      "The maximum value of the 'selling_price' column is =  760000\n",
      "The minimum value of the 'selling_price column' is =  5000\n",
      "The range of selling price is =  755000\n"
     ]
    }
   ],
   "source": [
    "# range means the difference between maximum and minimum value\n",
    "max_value = df['selling_price'].max()\n",
    "min_value = df['selling_price'].min()\n",
    "\n",
    "print(\"The maximum value of the 'selling_price' column is = \",max_value)\n",
    "print(\"The minimum value of the 'selling_price column' is = \",min_value)\n",
    "\n",
    "print(\"The range of selling price is = \",max_value - min_value)"
   ]
  },
  {
   "cell_type": "markdown",
   "id": "676531d0-1a11-430a-97dd-fa8671548e53",
   "metadata": {},
   "source": [
    "### 2. What is the median selling price for bikes in the dataset?"
   ]
  },
  {
   "cell_type": "code",
   "execution_count": 14,
   "id": "22c8e2c8-ce1a-4bc7-917d-05801cca4630",
   "metadata": {},
   "outputs": [
    {
     "name": "stdout",
     "output_type": "stream",
     "text": [
      "The median selling price for bikes in the dataset is =  45000.0\n"
     ]
    }
   ],
   "source": [
    "print(\"The median selling price for bikes in the dataset is = \",df['selling_price'].median())"
   ]
  },
  {
   "cell_type": "markdown",
   "id": "140d3fb1-1179-47cd-a1b5-3ada2334f545",
   "metadata": {},
   "source": [
    "### 3. What is the most common seller type?"
   ]
  },
  {
   "cell_type": "code",
   "execution_count": 16,
   "id": "15d045c1-ea62-4ec1-a9cc-eb0409d7282a",
   "metadata": {},
   "outputs": [
    {
     "name": "stdout",
     "output_type": "stream",
     "text": [
      "The common seller type =  0    Individual\n",
      "Name: seller_type, dtype: object\n"
     ]
    }
   ],
   "source": [
    "# seller_type column categorical object column. That's means model value is the common value\n",
    "print(\"The common seller type = \",df['seller_type'].mode())"
   ]
  },
  {
   "cell_type": "code",
   "execution_count": 17,
   "id": "f7285eae-b5b6-466d-adde-674b72821a7c",
   "metadata": {},
   "outputs": [
    {
     "data": {
      "text/plain": [
       "seller_type\n",
       "Individual    1055\n",
       "Dealer           6\n",
       "Name: count, dtype: int64"
      ]
     },
     "execution_count": 17,
     "metadata": {},
     "output_type": "execute_result"
    }
   ],
   "source": [
    "df['seller_type'].value_counts()"
   ]
  },
  {
   "cell_type": "code",
   "execution_count": 18,
   "id": "e7654a0c-4f00-4c02-adcd-d5acee573c2f",
   "metadata": {},
   "outputs": [],
   "source": [
    "# That's way also say that Individual seller type maximum type occuures that's why Individual seller type is common"
   ]
  },
  {
   "cell_type": "markdown",
   "id": "f61f1424-d2e1-4c09-92ee-86a84262e2fd",
   "metadata": {},
   "source": [
    "### 4. How many bikes have driven more than 50,000 kilometers?"
   ]
  },
  {
   "cell_type": "code",
   "execution_count": 20,
   "id": "c1dbc518-9bdf-41d8-b1a2-386bea26f714",
   "metadata": {},
   "outputs": [
    {
     "name": "stdout",
     "output_type": "stream",
     "text": [
      "170 bikes driven more than 50,000 kilometers\n"
     ]
    }
   ],
   "source": [
    "print(f\"{len(df[df['km_driven'] > 50000])} bikes driven more than 50,000 kilometers\")"
   ]
  },
  {
   "cell_type": "markdown",
   "id": "fb2db59a-3240-4d56-8d51-e2e2cdffd41b",
   "metadata": {},
   "source": [
    "### 5. What is the average km_driven value for each ownership type?"
   ]
  },
  {
   "cell_type": "code",
   "execution_count": 22,
   "id": "1ab1b442-7e0f-45ce-9636-4a28367e671d",
   "metadata": {},
   "outputs": [
    {
     "name": "stdout",
     "output_type": "stream",
     "text": [
      "Average kilometers driven for each ownership type:--->\n",
      "owner\n",
      "1st owner     32816.583333\n",
      "2nd owner     39288.991870\n",
      "3rd owner     33292.181818\n",
      "4th owner    311500.000000\n",
      "Name: km_driven, dtype: float64\n"
     ]
    }
   ],
   "source": [
    "print(\"Average kilometers driven for each ownership type:--->\")\n",
    "print(df.groupby('owner')['km_driven'].mean())"
   ]
  },
  {
   "cell_type": "markdown",
   "id": "05ba1f57-bf66-487a-97ba-baee6302eeac",
   "metadata": {},
   "source": [
    "### 6. What proportion of bikes are from the year 2015 or older?"
   ]
  },
  {
   "cell_type": "code",
   "execution_count": 24,
   "id": "f884e0ff-6308-48e5-8ee1-75863ffc777b",
   "metadata": {},
   "outputs": [
    {
     "name": "stdout",
     "output_type": "stream",
     "text": [
      "Proportion of bikes from 2015 or older:  56.64\n"
     ]
    }
   ],
   "source": [
    "older_bikes = df[df['year'] <= 2015]\n",
    "proportion = len(older_bikes) / len(df)\n",
    "print(\"Proportion of bikes from 2015 or older: \",round(proportion *100, 2))"
   ]
  },
  {
   "cell_type": "markdown",
   "id": "fdd5d7a8-db6e-440b-b9a8-27e24e9c8e3d",
   "metadata": {},
   "source": [
    "### 7. What is the trend of missing values across the dataset?"
   ]
  },
  {
   "cell_type": "code",
   "execution_count": 52,
   "id": "eb305b7e-3fa2-4ab6-b05e-a77b763bff3d",
   "metadata": {},
   "outputs": [
    {
     "data": {
      "text/plain": [
       "name                   0\n",
       "selling_price          0\n",
       "year                   0\n",
       "seller_type            0\n",
       "owner                  0\n",
       "km_driven              0\n",
       "ex_showroom_price    435\n",
       "dtype: int64"
      ]
     },
     "execution_count": 52,
     "metadata": {},
     "output_type": "execute_result"
    }
   ],
   "source": [
    "df.isnull().sum()"
   ]
  },
  {
   "cell_type": "code",
   "execution_count": 46,
   "id": "7dfc460e-a620-4293-87b5-1582bce0c73d",
   "metadata": {},
   "outputs": [],
   "source": [
    "# Only ex_showroom_price column have 435 missing or null value of the whole dataset"
   ]
  },
  {
   "cell_type": "code",
   "execution_count": 64,
   "id": "b170021f-59a4-45f7-be4f-b58e6feb471b",
   "metadata": {},
   "outputs": [
    {
     "name": "stdout",
     "output_type": "stream",
     "text": [
      "'name' have 0.0% null value\n",
      "'selling_price' have 0.0% null value\n",
      "'year' have 0.0% null value\n",
      "'seller_type' have 0.0% null value\n",
      "'owner' have 0.0% null value\n",
      "'km_driven' have 0.0% null value\n",
      "'ex_showroom_price' have 41.0% null value\n"
     ]
    }
   ],
   "source": [
    "# another way\n",
    "for column in df.columns:\n",
    "    no_null_value = df[column].isna().sum()\n",
    "    total_rows = len(df)\n",
    "    print(f\"'{column}' have {round((no_null_value / total_rows)*100,2)}% null value\")"
   ]
  },
  {
   "cell_type": "markdown",
   "id": "c992a997-11f6-41e8-82e0-43a8eb1aff37",
   "metadata": {},
   "source": [
    "### 8. What is the highest ex_showroom_price recorded, and for which bike?"
   ]
  },
  {
   "cell_type": "code",
   "execution_count": 77,
   "id": "1832fd93-777a-4749-b4d8-8052b439d956",
   "metadata": {},
   "outputs": [
    {
     "name": "stdout",
     "output_type": "stream",
     "text": [
      "The highest original showroom price is =  1278000.0\n",
      "And corresponding the bike is:  134    Harley-Davidson Street Bob\n",
      "Name: name, dtype: object\n"
     ]
    }
   ],
   "source": [
    "max_price = df['ex_showroom_price'].max() # That's return the highest showrrom price\n",
    "\n",
    "max_price_row = df[df['ex_showroom_price'] == max_price] # it's return the row where the showrrom price is highest\n",
    "\n",
    "print(\"The highest original showroom price is = \",max_price)\n",
    "\n",
    "bike_name = max_price_row['name'] # it's return the bike name where the showroom price is maximum\n",
    "print(\"And corresponding the bike is: \",bike_name)"
   ]
  },
  {
   "cell_type": "markdown",
   "id": "b585f7b4-a528-430c-a8c5-f1250a32d9b8",
   "metadata": {},
   "source": [
    "### 9. What is the total number of bikes listed by each seller type?"
   ]
  },
  {
   "cell_type": "code",
   "execution_count": 82,
   "id": "ab89c199-9182-4110-bf41-a76f210e92d9",
   "metadata": {},
   "outputs": [
    {
     "data": {
      "text/plain": [
       "seller_type\n",
       "Dealer           6\n",
       "Individual    1055\n",
       "Name: name, dtype: int64"
      ]
     },
     "execution_count": 82,
     "metadata": {},
     "output_type": "execute_result"
    }
   ],
   "source": [
    "df.groupby('seller_type')['name'].count()"
   ]
  },
  {
   "cell_type": "code",
   "execution_count": 84,
   "id": "d8a5d484-42aa-4006-a4a0-c6a640dc95dc",
   "metadata": {},
   "outputs": [],
   "source": [
    "# so, we see that Dealer seller have 6 bikes and Individual seller have 1055 no of bikes"
   ]
  },
  {
   "cell_type": "markdown",
   "id": "18a0a348-29c3-47a0-8c5b-39277ed9e621",
   "metadata": {},
   "source": [
    "### 10.What is the relationship between selling_price and km_driven for first-owner bikes?"
   ]
  },
  {
   "cell_type": "code",
   "execution_count": 103,
   "id": "2c7ac724-24db-45ba-9103-83c3b5a4026e",
   "metadata": {},
   "outputs": [
    {
     "data": {
      "image/png": "[encoded data removed]",
      "text/plain": [
       "<Figure size 640x480 with 1 Axes>"
      ]
     },
     "metadata": {},
     "output_type": "display_data"
    }
   ],
   "source": [
    "first_owner_bike = df[df['owner'] == '1st owner'] # give the dataframe where all the owner is 1st owner\n",
    "sns.scatterplot(y = 'selling_price', x = 'km_driven', data = df, alpha = 0.6)\n",
    "\n",
    "# add title\n",
    "plt.title(\"Relationship between selling price & km driven of all fist owner bike\")\n",
    "plt.ylabel('Selling Price')\n",
    "plt.xlabel('Total kilometers driven')\n",
    "\n",
    "plt.show()"
   ]
  },
  {
   "cell_type": "code",
   "execution_count": 105,
   "id": "ca26d27c-c6dc-411e-86ab-0ebb6eabfaae",
   "metadata": {},
   "outputs": [],
   "source": [
    "# Insightss>> Opposite relation means that's bike km_driven is highest their selling price is low and there selling price highest there km_driven is low"
   ]
  },
  {
   "cell_type": "markdown",
   "id": "08d4dc51-0583-4355-ae33-48416cd1e846",
   "metadata": {},
   "source": [
    "### 11. Identify and remove outliers in the km_driven column using the IQR method."
   ]
  },
  {
   "cell_type": "code",
   "execution_count": 108,
   "id": "0e44761f-596c-4280-a15f-af9a57a509ac",
   "metadata": {},
   "outputs": [
    {
     "name": "stdout",
     "output_type": "stream",
     "text": [
      "Original dataset size:  (1061, 7)\n",
      "Cleaned dataset size:  (1022, 7)\n"
     ]
    }
   ],
   "source": [
    "Q1 = df['km_driven'].quantile(0.25)\n",
    "Q3 = df['km_driven'].quantile(0.75)\n",
    "\n",
    "IQR = Q3 - Q1\n",
    "\n",
    "df_cleaned = df[(df['km_driven'] >= Q1-1.5*IQR) & (df['km_driven'] <= Q3 + 1.5*IQR)]\n",
    "\n",
    "# check how many rows were removed\n",
    "print(\"Original dataset size: \",df.shape)\n",
    "print(\"Cleaned dataset size: \",df_cleaned.shape)"
   ]
  },
  {
   "cell_type": "code",
   "execution_count": 110,
   "id": "48807a69-f3aa-4ee1-b091-e5e034c36f4e",
   "metadata": {},
   "outputs": [],
   "source": [
    "# 31 rows removed to remove the outlier"
   ]
  },
  {
   "cell_type": "markdown",
   "id": "8e289be1-07b9-4526-9159-1853cb1be099",
   "metadata": {},
   "source": [
    "### 12. Perform a bivariate analysis to visualize the relationship between year and selling_price?"
   ]
  },
  {
   "cell_type": "code",
   "execution_count": 115,
   "id": "ea20b522-b2e9-4d31-bac7-b93df27f05cb",
   "metadata": {},
   "outputs": [
    {
     "data": {
      "image/png": "[encoded data removed]",
      "text/plain": [
       "<Figure size 1200x600 with 1 Axes>"
      ]
     },
     "metadata": {},
     "output_type": "display_data"
    }
   ],
   "source": [
    "# line plot\n",
    "plt.figure(figsize = (12,6))\n",
    "sns.lineplot(x = 'year', y = 'selling_price', data = df, marker = 'o')\n",
    "\n",
    "plt.title('Selling price over year')\n",
    "plt.show()"
   ]
  },
  {
   "cell_type": "code",
   "execution_count": 123,
   "id": "8a398c55-d4c0-492e-a772-2ed20aaa93f5",
   "metadata": {},
   "outputs": [
    {
     "data": {
      "image/png": "[encoded data removed]",
      "text/plain": [
       "<Figure size 2000x1000 with 1 Axes>"
      ]
     },
     "metadata": {},
     "output_type": "display_data"
    }
   ],
   "source": [
    "# Box plot\n",
    "plt.figure(figsize = (20,10))\n",
    "sns.boxplot(x = 'year', y = 'selling_price', data = df)\n",
    "plt.show()"
   ]
  },
  {
   "cell_type": "markdown",
   "id": "9bda74da-22f3-4a44-bb4b-34d705dda7f9",
   "metadata": {},
   "source": [
    "### 13. What is the average depreciation in selling price based on the bike's age (current year - manufacturing year)?"
   ]
  },
  {
   "cell_type": "code",
   "execution_count": 132,
   "id": "50c5ddd5-f0ff-4e9f-8798-479e24735303",
   "metadata": {},
   "outputs": [
    {
     "name": "stdout",
     "output_type": "stream",
     "text": [
      "    bike_age  selling_price\n",
      "0          5  183333.333333\n",
      "1          6  119689.511628\n",
      "2          7   87660.374046\n",
      "3          8   78894.736842\n",
      "4          9   58469.018692\n",
      "5         10   56500.000000\n",
      "6         11   48668.131868\n",
      "7         12   51136.986301\n",
      "8         13   35748.400000\n",
      "9         14   35655.721311\n",
      "10        15   31793.333333\n",
      "11        16   22267.857143\n",
      "12        17   34289.285714\n",
      "13        18   24927.586207\n",
      "14        19   23380.000000\n",
      "15        20   16978.571429\n",
      "16        21   15100.000000\n",
      "17        22    8000.000000\n",
      "18        23   20666.666667\n",
      "19        24   40000.000000\n",
      "20        25   20833.333333\n",
      "21        26   15000.000000\n",
      "22        27   28333.333333\n",
      "23        28   17500.000000\n",
      "24        30  150000.000000\n",
      "25        32  130000.000000\n",
      "26        34    6000.000000\n",
      "27        37   20000.000000\n"
     ]
    }
   ],
   "source": [
    "current_year = 2025\n",
    "\n",
    "df['bike_age'] = current_year - df['year']\n",
    "\n",
    "avg_depreciation = df.groupby('bike_age')['selling_price'].mean().reset_index()\n",
    "\n",
    "print(avg_depreciation)"
   ]
  },
  {
   "cell_type": "markdown",
   "id": "1717f637-aa98-4fb7-a6e5-b2e01e0b7f95",
   "metadata": {},
   "source": [
    "### 14. Which bike names are priced significantly above the average price for their manufacturing year?"
   ]
  },
  {
   "cell_type": "code",
   "execution_count": 135,
   "id": "fa40e0ec-5f20-414e-aa51-583331de6a96",
   "metadata": {},
   "outputs": [
    {
     "name": "stdout",
     "output_type": "stream",
     "text": [
      "                               name  year  selling_price  avg_year_price\n",
      "295                 Suzuki GSX S750  2019         760000   119689.511628\n",
      "134      Harley-Davidson Street Bob  2013         750000    51136.986301\n",
      "289  Kawasaki Ninja 650 [2018-2019]  2017         425000    78894.736842\n",
      "13                    Yamaha YZF R3  2019         365000   119689.511628\n",
      "311      Harley-Davidson Street 750  2014         330000    48668.131868\n",
      "..                              ...   ...            ...             ...\n",
      "189            Honda CB Unicorn 150  2007          50000    24927.586207\n",
      "958          Hero Honda CBZ extreme  2009          40000    22267.857143\n",
      "440        Hero Honda Splendor Plus  2007          40000    24927.586207\n",
      "572                Bajaj Pulsar 180  2009          35000    22267.857143\n",
      "899                Bajaj Pulsar 150  2009          35000    22267.857143\n",
      "\n",
      "[157 rows x 4 columns]\n"
     ]
    }
   ],
   "source": [
    "import pandas as pd\n",
    "\n",
    "# Step 1: Calculate average selling price for each year\n",
    "year_avg = df.groupby('year')['selling_price'].mean().reset_index()\n",
    "year_avg.rename(columns={'selling_price': 'avg_year_price'}, inplace=True)\n",
    "\n",
    "# Step 2: Merge with original dataset\n",
    "df_merged = pd.merge(df, year_avg, on='year')\n",
    "\n",
    "# Step 3: Filter bikes priced significantly above average (e.g., >1.5x)\n",
    "significantly_above = df_merged[df_merged['selling_price'] > 1.5 * df_merged['avg_year_price']]\n",
    "\n",
    "# Step 4: Show results\n",
    "result = significantly_above[['name', 'year', 'selling_price', 'avg_year_price']]\n",
    "print(result.sort_values(by='selling_price', ascending=False))\n"
   ]
  },
  {
   "cell_type": "markdown",
   "id": "9d8a3e58-dcb3-4892-a1f4-8b5e50992bd3",
   "metadata": {},
   "source": [
    "### 15. Develop a correlation matrix for numeric columns and visualize it using a heatmap."
   ]
  },
  {
   "cell_type": "code",
   "execution_count": null,
   "id": "4af3cf1f-d748-4ed0-b110-4d29dfdeebf1",
   "metadata": {},
   "outputs": [],
   "source": [
    "corr = df.corr(numeric = True)\n",
    "plt.figure(figsize = (12,10))\n",
    "sns.heatmap(corr,annot = True, cmap = 'coolwarm')\n",
    "plt.show()"
   ]
  }
 ],
 "metadata": {
  "kernelspec": {
   "display_name": "Python 3 (ipykernel)",
   "language": "python",
   "name": "python3"
  },
  "language_info": {
   "codemirror_mode": {
    "name": "ipython",
    "version": 3
   },
   "file_extension": ".py",
   "mimetype": "text/x-python",
   "name": "python",
   "nbconvert_exporter": "python",
   "pygments_lexer": "ipython3",
   "version": "3.12.4"
  }
 },
 "nbformat": 4,
 "nbformat_minor": 5
}
